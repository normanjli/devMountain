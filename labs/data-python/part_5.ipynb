{
 "cells": [
  {
   "cell_type": "code",
   "execution_count": 22,
   "metadata": {},
   "outputs": [
    {
     "data": {
      "text/plain": [
       "<BarContainer object of 3 artists>"
      ]
     },
     "execution_count": 22,
     "metadata": {},
     "output_type": "execute_result"
    },
    {
     "data": {
      "image/png": "[encoded data removed]",
      "text/plain": [
       "<Figure size 432x288 with 1 Axes>"
      ]
     },
     "metadata": {
      "needs_background": "light"
     },
     "output_type": "display_data"
    }
   ],
   "source": [
    "open_file = open(\"D:\\devMountain\\labs\\data-python\\CupcakeInvoices.csv\")\n",
    "import matplotlib.pyplot as plt\n",
    "chocolate_sale = 0\n",
    "strawberry_sale = 0\n",
    "vanilla_sale = 0\n",
    "for line in open_file:\n",
    "    line = line.split(',')\n",
    "    if line[2]=='Chocolate':\n",
    "        chocolate_sale+=(float(line[3])*float(line[4]))\n",
    "    elif line[2]=='Strawberry':\n",
    "        strawberry_sale+=(float(line[3])*float(line[4]))\n",
    "    elif line[2]=='Vanilla':\n",
    "        vanilla_sale+=(float(line[3])*float(line[4]))\n",
    "x = ['Chocolate', 'Strawberry','Vanilla']\n",
    "y = [chocolate_sale,strawberry_sale,vanilla_sale]\n",
    "plt.bar(x,y)\n"
   ]
  }
 ],
 "metadata": {
  "interpreter": {
   "hash": "02ef8b29e0dc23816a74605395f0bcb06e514d587a402b187a1fd788ff75056d"
  },
  "kernelspec": {
   "display_name": "Python 3.10.0 64-bit",
   "name": "python3"
  },
  "language_info": {
   "codemirror_mode": {
    "name": "ipython",
    "version": 3
   },
   "file_extension": ".py",
   "mimetype": "text/x-python",
   "name": "python",
   "nbconvert_exporter": "python",
   "pygments_lexer": "ipython3",
   "version": "3.10.0"
  },
  "orig_nbformat": 4
 },
 "nbformat": 4,
 "nbformat_minor": 2
}
